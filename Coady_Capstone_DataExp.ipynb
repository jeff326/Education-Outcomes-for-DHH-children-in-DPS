{
 "cells": [
  {
   "cell_type": "code",
   "execution_count": 9,
   "metadata": {},
   "outputs": [],
   "source": [
    "import pandas as pd\n",
    "import numpy as np"
   ]
  },
  {
   "cell_type": "code",
   "execution_count": 10,
   "metadata": {},
   "outputs": [
    {
     "data": {
      "text/html": [
       "<div>\n",
       "<style scoped>\n",
       "    .dataframe tbody tr th:only-of-type {\n",
       "        vertical-align: middle;\n",
       "    }\n",
       "\n",
       "    .dataframe tbody tr th {\n",
       "        vertical-align: top;\n",
       "    }\n",
       "\n",
       "    .dataframe thead th {\n",
       "        text-align: right;\n",
       "    }\n",
       "</style>\n",
       "<table border=\"1\" class=\"dataframe\">\n",
       "  <thead>\n",
       "    <tr style=\"text-align: right;\">\n",
       "      <th></th>\n",
       "      <th>SchoolYear</th>\n",
       "      <th>Semester</th>\n",
       "      <th>TestName</th>\n",
       "      <th>TestCategory</th>\n",
       "      <th>MeasureCode</th>\n",
       "      <th>StudentNumber</th>\n",
       "      <th>Grade</th>\n",
       "      <th>SchoolNum</th>\n",
       "      <th>SchoolName</th>\n",
       "      <th>SkillName</th>\n",
       "      <th>RawScore</th>\n",
       "      <th>ScaleScore</th>\n",
       "      <th>Growth</th>\n",
       "      <th>ProficiencyLevel</th>\n",
       "    </tr>\n",
       "  </thead>\n",
       "  <tbody>\n",
       "    <tr>\n",
       "      <th>0</th>\n",
       "      <td>2010-2011</td>\n",
       "      <td>Spring</td>\n",
       "      <td>CELA Listening</td>\n",
       "      <td>CELA</td>\n",
       "      <td>Listening</td>\n",
       "      <td>463249</td>\n",
       "      <td>9</td>\n",
       "      <td>450.0</td>\n",
       "      <td>Abraham Lincoln High School</td>\n",
       "      <td>Listening</td>\n",
       "      <td>NaN</td>\n",
       "      <td>INV</td>\n",
       "      <td>NaN</td>\n",
       "      <td>NaN</td>\n",
       "    </tr>\n",
       "    <tr>\n",
       "      <th>1</th>\n",
       "      <td>2010-2011</td>\n",
       "      <td>Spring</td>\n",
       "      <td>CELA Reading</td>\n",
       "      <td>CELA</td>\n",
       "      <td>Reading</td>\n",
       "      <td>463249</td>\n",
       "      <td>9</td>\n",
       "      <td>450.0</td>\n",
       "      <td>Abraham Lincoln High School</td>\n",
       "      <td>Reading</td>\n",
       "      <td>NaN</td>\n",
       "      <td>INV</td>\n",
       "      <td>NaN</td>\n",
       "      <td>NaN</td>\n",
       "    </tr>\n",
       "    <tr>\n",
       "      <th>2</th>\n",
       "      <td>2010-2011</td>\n",
       "      <td>Spring</td>\n",
       "      <td>CELA Speaking</td>\n",
       "      <td>CELA</td>\n",
       "      <td>Speaking</td>\n",
       "      <td>463249</td>\n",
       "      <td>9</td>\n",
       "      <td>450.0</td>\n",
       "      <td>Abraham Lincoln High School</td>\n",
       "      <td>Speaking</td>\n",
       "      <td>NaN</td>\n",
       "      <td>INV</td>\n",
       "      <td>NaN</td>\n",
       "      <td>NaN</td>\n",
       "    </tr>\n",
       "    <tr>\n",
       "      <th>3</th>\n",
       "      <td>2010-2011</td>\n",
       "      <td>Spring</td>\n",
       "      <td>CELA Writing</td>\n",
       "      <td>CELA</td>\n",
       "      <td>Writing</td>\n",
       "      <td>463249</td>\n",
       "      <td>9</td>\n",
       "      <td>450.0</td>\n",
       "      <td>Abraham Lincoln High School</td>\n",
       "      <td>Writing</td>\n",
       "      <td>NaN</td>\n",
       "      <td>INV</td>\n",
       "      <td>NaN</td>\n",
       "      <td>NaN</td>\n",
       "    </tr>\n",
       "    <tr>\n",
       "      <th>4</th>\n",
       "      <td>2010-2011</td>\n",
       "      <td>Spring</td>\n",
       "      <td>CELA Comprehension</td>\n",
       "      <td>CELA</td>\n",
       "      <td>Comprehension</td>\n",
       "      <td>463249</td>\n",
       "      <td>9</td>\n",
       "      <td>450.0</td>\n",
       "      <td>Abraham Lincoln High School</td>\n",
       "      <td>Comprehension</td>\n",
       "      <td>NaN</td>\n",
       "      <td>NaN</td>\n",
       "      <td>NaN</td>\n",
       "      <td>NaN</td>\n",
       "    </tr>\n",
       "  </tbody>\n",
       "</table>\n",
       "</div>"
      ],
      "text/plain": [
       "  SchoolYear Semester            TestName TestCategory    MeasureCode  \\\n",
       "0  2010-2011   Spring      CELA Listening         CELA      Listening   \n",
       "1  2010-2011   Spring        CELA Reading         CELA        Reading   \n",
       "2  2010-2011   Spring       CELA Speaking         CELA       Speaking   \n",
       "3  2010-2011   Spring        CELA Writing         CELA        Writing   \n",
       "4  2010-2011   Spring  CELA Comprehension         CELA  Comprehension   \n",
       "\n",
       "   StudentNumber Grade  SchoolNum                   SchoolName      SkillName  \\\n",
       "0         463249     9      450.0  Abraham Lincoln High School      Listening   \n",
       "1         463249     9      450.0  Abraham Lincoln High School        Reading   \n",
       "2         463249     9      450.0  Abraham Lincoln High School       Speaking   \n",
       "3         463249     9      450.0  Abraham Lincoln High School        Writing   \n",
       "4         463249     9      450.0  Abraham Lincoln High School  Comprehension   \n",
       "\n",
       "   RawScore ScaleScore  Growth ProficiencyLevel  \n",
       "0       NaN        INV     NaN              NaN  \n",
       "1       NaN        INV     NaN              NaN  \n",
       "2       NaN        INV     NaN              NaN  \n",
       "3       NaN        INV     NaN              NaN  \n",
       "4       NaN        NaN     NaN              NaN  "
      ]
     },
     "execution_count": 10,
     "metadata": {},
     "output_type": "execute_result"
    }
   ],
   "source": [
    "df = pd.read_csv('TestScores.csv')\n",
    "df.head()"
   ]
  },
  {
   "cell_type": "code",
   "execution_count": 11,
   "metadata": {},
   "outputs": [
    {
     "data": {
      "text/plain": [
       "(289456, 14)"
      ]
     },
     "execution_count": 11,
     "metadata": {},
     "output_type": "execute_result"
    }
   ],
   "source": [
    "df.shape"
   ]
  },
  {
   "cell_type": "code",
   "execution_count": 12,
   "metadata": {},
   "outputs": [
    {
     "data": {
      "text/html": [
       "<div>\n",
       "<style scoped>\n",
       "    .dataframe tbody tr th:only-of-type {\n",
       "        vertical-align: middle;\n",
       "    }\n",
       "\n",
       "    .dataframe tbody tr th {\n",
       "        vertical-align: top;\n",
       "    }\n",
       "\n",
       "    .dataframe thead th {\n",
       "        text-align: right;\n",
       "    }\n",
       "</style>\n",
       "<table border=\"1\" class=\"dataframe\">\n",
       "  <thead>\n",
       "    <tr style=\"text-align: right;\">\n",
       "      <th></th>\n",
       "      <th>SchoolYear</th>\n",
       "      <th>Semester</th>\n",
       "      <th>TestName</th>\n",
       "      <th>TestCategory</th>\n",
       "      <th>MeasureCode</th>\n",
       "      <th>StudentNumber</th>\n",
       "      <th>Grade</th>\n",
       "      <th>SchoolNum</th>\n",
       "      <th>SchoolName</th>\n",
       "      <th>SkillName</th>\n",
       "      <th>RawScore</th>\n",
       "      <th>ScaleScore</th>\n",
       "      <th>Growth</th>\n",
       "      <th>ProficiencyLevel</th>\n",
       "      <th>Test</th>\n",
       "    </tr>\n",
       "  </thead>\n",
       "  <tbody>\n",
       "    <tr>\n",
       "      <th>0</th>\n",
       "      <td>2010-2011</td>\n",
       "      <td>Spring</td>\n",
       "      <td>CELA Listening</td>\n",
       "      <td>CELA</td>\n",
       "      <td>Listening</td>\n",
       "      <td>463249</td>\n",
       "      <td>9</td>\n",
       "      <td>450.0</td>\n",
       "      <td>Abraham Lincoln High School</td>\n",
       "      <td>Listening</td>\n",
       "      <td>NaN</td>\n",
       "      <td>INV</td>\n",
       "      <td>NaN</td>\n",
       "      <td>NaN</td>\n",
       "      <td>CELA Listening Listening</td>\n",
       "    </tr>\n",
       "    <tr>\n",
       "      <th>1</th>\n",
       "      <td>2010-2011</td>\n",
       "      <td>Spring</td>\n",
       "      <td>CELA Reading</td>\n",
       "      <td>CELA</td>\n",
       "      <td>Reading</td>\n",
       "      <td>463249</td>\n",
       "      <td>9</td>\n",
       "      <td>450.0</td>\n",
       "      <td>Abraham Lincoln High School</td>\n",
       "      <td>Reading</td>\n",
       "      <td>NaN</td>\n",
       "      <td>INV</td>\n",
       "      <td>NaN</td>\n",
       "      <td>NaN</td>\n",
       "      <td>CELA Reading Reading</td>\n",
       "    </tr>\n",
       "    <tr>\n",
       "      <th>2</th>\n",
       "      <td>2010-2011</td>\n",
       "      <td>Spring</td>\n",
       "      <td>CELA Speaking</td>\n",
       "      <td>CELA</td>\n",
       "      <td>Speaking</td>\n",
       "      <td>463249</td>\n",
       "      <td>9</td>\n",
       "      <td>450.0</td>\n",
       "      <td>Abraham Lincoln High School</td>\n",
       "      <td>Speaking</td>\n",
       "      <td>NaN</td>\n",
       "      <td>INV</td>\n",
       "      <td>NaN</td>\n",
       "      <td>NaN</td>\n",
       "      <td>CELA Speaking Speaking</td>\n",
       "    </tr>\n",
       "    <tr>\n",
       "      <th>3</th>\n",
       "      <td>2010-2011</td>\n",
       "      <td>Spring</td>\n",
       "      <td>CELA Writing</td>\n",
       "      <td>CELA</td>\n",
       "      <td>Writing</td>\n",
       "      <td>463249</td>\n",
       "      <td>9</td>\n",
       "      <td>450.0</td>\n",
       "      <td>Abraham Lincoln High School</td>\n",
       "      <td>Writing</td>\n",
       "      <td>NaN</td>\n",
       "      <td>INV</td>\n",
       "      <td>NaN</td>\n",
       "      <td>NaN</td>\n",
       "      <td>CELA Writing Writing</td>\n",
       "    </tr>\n",
       "    <tr>\n",
       "      <th>4</th>\n",
       "      <td>2010-2011</td>\n",
       "      <td>Spring</td>\n",
       "      <td>CELA Comprehension</td>\n",
       "      <td>CELA</td>\n",
       "      <td>Comprehension</td>\n",
       "      <td>463249</td>\n",
       "      <td>9</td>\n",
       "      <td>450.0</td>\n",
       "      <td>Abraham Lincoln High School</td>\n",
       "      <td>Comprehension</td>\n",
       "      <td>NaN</td>\n",
       "      <td>NaN</td>\n",
       "      <td>NaN</td>\n",
       "      <td>NaN</td>\n",
       "      <td>CELA Comprehension Comprehension</td>\n",
       "    </tr>\n",
       "  </tbody>\n",
       "</table>\n",
       "</div>"
      ],
      "text/plain": [
       "  SchoolYear Semester            TestName TestCategory    MeasureCode  \\\n",
       "0  2010-2011   Spring      CELA Listening         CELA      Listening   \n",
       "1  2010-2011   Spring        CELA Reading         CELA        Reading   \n",
       "2  2010-2011   Spring       CELA Speaking         CELA       Speaking   \n",
       "3  2010-2011   Spring        CELA Writing         CELA        Writing   \n",
       "4  2010-2011   Spring  CELA Comprehension         CELA  Comprehension   \n",
       "\n",
       "   StudentNumber Grade  SchoolNum                   SchoolName      SkillName  \\\n",
       "0         463249     9      450.0  Abraham Lincoln High School      Listening   \n",
       "1         463249     9      450.0  Abraham Lincoln High School        Reading   \n",
       "2         463249     9      450.0  Abraham Lincoln High School       Speaking   \n",
       "3         463249     9      450.0  Abraham Lincoln High School        Writing   \n",
       "4         463249     9      450.0  Abraham Lincoln High School  Comprehension   \n",
       "\n",
       "   RawScore ScaleScore  Growth ProficiencyLevel  \\\n",
       "0       NaN        INV     NaN              NaN   \n",
       "1       NaN        INV     NaN              NaN   \n",
       "2       NaN        INV     NaN              NaN   \n",
       "3       NaN        INV     NaN              NaN   \n",
       "4       NaN        NaN     NaN              NaN   \n",
       "\n",
       "                               Test  \n",
       "0          CELA Listening Listening  \n",
       "1              CELA Reading Reading  \n",
       "2            CELA Speaking Speaking  \n",
       "3              CELA Writing Writing  \n",
       "4  CELA Comprehension Comprehension  "
      ]
     },
     "execution_count": 12,
     "metadata": {},
     "output_type": "execute_result"
    }
   ],
   "source": [
    "df['Test'] = df.TestName.map(str) + ' ' + df.MeasureCode\n",
    "df.head()"
   ]
  },
  {
   "cell_type": "code",
   "execution_count": null,
   "metadata": {},
   "outputs": [],
   "source": [
    "#df = df.drop(['TestName','TestCategory','MeasureCode','SchoolNum','SchoolName','SkillName'],axis=1)\n",
    "#df.head()"
   ]
  },
  {
   "cell_type": "code",
   "execution_count": 13,
   "metadata": {},
   "outputs": [
    {
     "name": "stdout",
     "output_type": "stream",
     "text": [
      "2771\n"
     ]
    }
   ],
   "source": [
    "tests = df.Test.unique()\n",
    "#print(tests)\n",
    "print(len(tests))\n"
   ]
  },
  {
   "cell_type": "code",
   "execution_count": 14,
   "metadata": {},
   "outputs": [
    {
     "data": {
      "text/plain": [
       "SchoolYear           object\n",
       "Semester             object\n",
       "TestName             object\n",
       "TestCategory         object\n",
       "MeasureCode          object\n",
       "StudentNumber         int64\n",
       "Grade                object\n",
       "SchoolNum           float64\n",
       "SchoolName           object\n",
       "SkillName            object\n",
       "RawScore            float64\n",
       "ScaleScore           object\n",
       "Growth              float64\n",
       "ProficiencyLevel     object\n",
       "Test                 object\n",
       "dtype: object"
      ]
     },
     "execution_count": 14,
     "metadata": {},
     "output_type": "execute_result"
    }
   ],
   "source": [
    "df.dtypes"
   ]
  },
  {
   "cell_type": "code",
   "execution_count": 15,
   "metadata": {},
   "outputs": [
    {
     "data": {
      "text/plain": [
       "SchoolYear          datetime64[ns]\n",
       "Semester                    object\n",
       "TestName                    object\n",
       "TestCategory                object\n",
       "MeasureCode                 object\n",
       "StudentNumber                int64\n",
       "Grade                       object\n",
       "SchoolNum                  float64\n",
       "SchoolName                  object\n",
       "SkillName                   object\n",
       "RawScore                   float64\n",
       "ScaleScore                  object\n",
       "Growth                     float64\n",
       "ProficiencyLevel            object\n",
       "Test                        object\n",
       "dtype: object"
      ]
     },
     "execution_count": 15,
     "metadata": {},
     "output_type": "execute_result"
    }
   ],
   "source": [
    "df.SchoolYear = pd.to_datetime(df.SchoolYear.str[:4])\n",
    "df.dtypes"
   ]
  },
  {
   "cell_type": "code",
   "execution_count": 16,
   "metadata": {
    "scrolled": true
   },
   "outputs": [
    {
     "name": "stderr",
     "output_type": "stream",
     "text": [
      "/Applications/anaconda3/lib/python3.6/site-packages/ipykernel_launcher.py:1: SettingWithCopyWarning: \n",
      "A value is trying to be set on a copy of a slice from a DataFrame\n",
      "\n",
      "See the caveats in the documentation: http://pandas.pydata.org/pandas-docs/stable/indexing.html#indexing-view-versus-copy\n",
      "  \"\"\"Entry point for launching an IPython kernel.\n",
      "/Applications/anaconda3/lib/python3.6/site-packages/ipykernel_launcher.py:2: SettingWithCopyWarning: \n",
      "A value is trying to be set on a copy of a slice from a DataFrame\n",
      "\n",
      "See the caveats in the documentation: http://pandas.pydata.org/pandas-docs/stable/indexing.html#indexing-view-versus-copy\n",
      "  \n",
      "/Applications/anaconda3/lib/python3.6/site-packages/ipykernel_launcher.py:3: SettingWithCopyWarning: \n",
      "A value is trying to be set on a copy of a slice from a DataFrame\n",
      "\n",
      "See the caveats in the documentation: http://pandas.pydata.org/pandas-docs/stable/indexing.html#indexing-view-versus-copy\n",
      "  This is separate from the ipykernel package so we can avoid doing imports until\n",
      "/Applications/anaconda3/lib/python3.6/site-packages/ipykernel_launcher.py:4: SettingWithCopyWarning: \n",
      "A value is trying to be set on a copy of a slice from a DataFrame\n",
      "\n",
      "See the caveats in the documentation: http://pandas.pydata.org/pandas-docs/stable/indexing.html#indexing-view-versus-copy\n",
      "  after removing the cwd from sys.path.\n"
     ]
    },
    {
     "data": {
      "text/html": [
       "<div>\n",
       "<style scoped>\n",
       "    .dataframe tbody tr th:only-of-type {\n",
       "        vertical-align: middle;\n",
       "    }\n",
       "\n",
       "    .dataframe tbody tr th {\n",
       "        vertical-align: top;\n",
       "    }\n",
       "\n",
       "    .dataframe thead th {\n",
       "        text-align: right;\n",
       "    }\n",
       "</style>\n",
       "<table border=\"1\" class=\"dataframe\">\n",
       "  <thead>\n",
       "    <tr style=\"text-align: right;\">\n",
       "      <th></th>\n",
       "      <th>SchoolYear</th>\n",
       "      <th>Semester</th>\n",
       "      <th>TestName</th>\n",
       "      <th>TestCategory</th>\n",
       "      <th>MeasureCode</th>\n",
       "      <th>StudentNumber</th>\n",
       "      <th>Grade</th>\n",
       "      <th>SchoolNum</th>\n",
       "      <th>SchoolName</th>\n",
       "      <th>SkillName</th>\n",
       "      <th>RawScore</th>\n",
       "      <th>ScaleScore</th>\n",
       "      <th>Growth</th>\n",
       "      <th>ProficiencyLevel</th>\n",
       "      <th>Test</th>\n",
       "    </tr>\n",
       "  </thead>\n",
       "  <tbody>\n",
       "    <tr>\n",
       "      <th>0</th>\n",
       "      <td>2010-01-01</td>\n",
       "      <td>Spring</td>\n",
       "      <td>CELA Listening</td>\n",
       "      <td>CELA</td>\n",
       "      <td>Listening</td>\n",
       "      <td>463249</td>\n",
       "      <td>9</td>\n",
       "      <td>450.0</td>\n",
       "      <td>Abraham Lincoln High School</td>\n",
       "      <td>Listening</td>\n",
       "      <td>NaN</td>\n",
       "      <td>NaN</td>\n",
       "      <td>NaN</td>\n",
       "      <td>NaN</td>\n",
       "      <td>CELA Listening Listening</td>\n",
       "    </tr>\n",
       "    <tr>\n",
       "      <th>1</th>\n",
       "      <td>2010-01-01</td>\n",
       "      <td>Spring</td>\n",
       "      <td>CELA Reading</td>\n",
       "      <td>CELA</td>\n",
       "      <td>Reading</td>\n",
       "      <td>463249</td>\n",
       "      <td>9</td>\n",
       "      <td>450.0</td>\n",
       "      <td>Abraham Lincoln High School</td>\n",
       "      <td>Reading</td>\n",
       "      <td>NaN</td>\n",
       "      <td>NaN</td>\n",
       "      <td>NaN</td>\n",
       "      <td>NaN</td>\n",
       "      <td>CELA Reading Reading</td>\n",
       "    </tr>\n",
       "    <tr>\n",
       "      <th>2</th>\n",
       "      <td>2010-01-01</td>\n",
       "      <td>Spring</td>\n",
       "      <td>CELA Speaking</td>\n",
       "      <td>CELA</td>\n",
       "      <td>Speaking</td>\n",
       "      <td>463249</td>\n",
       "      <td>9</td>\n",
       "      <td>450.0</td>\n",
       "      <td>Abraham Lincoln High School</td>\n",
       "      <td>Speaking</td>\n",
       "      <td>NaN</td>\n",
       "      <td>NaN</td>\n",
       "      <td>NaN</td>\n",
       "      <td>NaN</td>\n",
       "      <td>CELA Speaking Speaking</td>\n",
       "    </tr>\n",
       "    <tr>\n",
       "      <th>3</th>\n",
       "      <td>2010-01-01</td>\n",
       "      <td>Spring</td>\n",
       "      <td>CELA Writing</td>\n",
       "      <td>CELA</td>\n",
       "      <td>Writing</td>\n",
       "      <td>463249</td>\n",
       "      <td>9</td>\n",
       "      <td>450.0</td>\n",
       "      <td>Abraham Lincoln High School</td>\n",
       "      <td>Writing</td>\n",
       "      <td>NaN</td>\n",
       "      <td>NaN</td>\n",
       "      <td>NaN</td>\n",
       "      <td>NaN</td>\n",
       "      <td>CELA Writing Writing</td>\n",
       "    </tr>\n",
       "    <tr>\n",
       "      <th>4</th>\n",
       "      <td>2010-01-01</td>\n",
       "      <td>Spring</td>\n",
       "      <td>CELA Comprehension</td>\n",
       "      <td>CELA</td>\n",
       "      <td>Comprehension</td>\n",
       "      <td>463249</td>\n",
       "      <td>9</td>\n",
       "      <td>450.0</td>\n",
       "      <td>Abraham Lincoln High School</td>\n",
       "      <td>Comprehension</td>\n",
       "      <td>NaN</td>\n",
       "      <td>NaN</td>\n",
       "      <td>NaN</td>\n",
       "      <td>NaN</td>\n",
       "      <td>CELA Comprehension Comprehension</td>\n",
       "    </tr>\n",
       "  </tbody>\n",
       "</table>\n",
       "</div>"
      ],
      "text/plain": [
       "  SchoolYear Semester            TestName TestCategory    MeasureCode  \\\n",
       "0 2010-01-01   Spring      CELA Listening         CELA      Listening   \n",
       "1 2010-01-01   Spring        CELA Reading         CELA        Reading   \n",
       "2 2010-01-01   Spring       CELA Speaking         CELA       Speaking   \n",
       "3 2010-01-01   Spring        CELA Writing         CELA        Writing   \n",
       "4 2010-01-01   Spring  CELA Comprehension         CELA  Comprehension   \n",
       "\n",
       "   StudentNumber Grade  SchoolNum                   SchoolName      SkillName  \\\n",
       "0         463249     9      450.0  Abraham Lincoln High School      Listening   \n",
       "1         463249     9      450.0  Abraham Lincoln High School        Reading   \n",
       "2         463249     9      450.0  Abraham Lincoln High School       Speaking   \n",
       "3         463249     9      450.0  Abraham Lincoln High School        Writing   \n",
       "4         463249     9      450.0  Abraham Lincoln High School  Comprehension   \n",
       "\n",
       "   RawScore ScaleScore  Growth ProficiencyLevel  \\\n",
       "0       NaN        NaN     NaN              NaN   \n",
       "1       NaN        NaN     NaN              NaN   \n",
       "2       NaN        NaN     NaN              NaN   \n",
       "3       NaN        NaN     NaN              NaN   \n",
       "4       NaN        NaN     NaN              NaN   \n",
       "\n",
       "                               Test  \n",
       "0          CELA Listening Listening  \n",
       "1              CELA Reading Reading  \n",
       "2            CELA Speaking Speaking  \n",
       "3              CELA Writing Writing  \n",
       "4  CELA Comprehension Comprehension  "
      ]
     },
     "execution_count": 16,
     "metadata": {},
     "output_type": "execute_result"
    }
   ],
   "source": [
    "df.ScaleScore[df.ScaleScore=='INV'] = np.NaN\n",
    "df.ScaleScore[df.ScaleScore=='NS'] = np.NaN\n",
    "df.ScaleScore[df.ScaleScore=='ABS'] = np.NaN\n",
    "df.ScaleScore[df.ScaleScore=='EXM'] = np.NaN\n",
    "df.head()"
   ]
  },
  {
   "cell_type": "code",
   "execution_count": 19,
   "metadata": {},
   "outputs": [
    {
     "data": {
      "text/plain": [
       "(260417, 15)"
      ]
     },
     "execution_count": 19,
     "metadata": {},
     "output_type": "execute_result"
    }
   ],
   "source": [
    "df = df[pd.notnull(df['ScaleScore'])]\n",
    "df.shape"
   ]
  },
  {
   "cell_type": "code",
   "execution_count": 20,
   "metadata": {},
   "outputs": [
    {
     "name": "stdout",
     "output_type": "stream",
     "text": [
      "29039\n"
     ]
    }
   ],
   "source": [
    "a = 289456-260417\n",
    "print(a)"
   ]
  },
  {
   "cell_type": "code",
   "execution_count": null,
   "metadata": {},
   "outputs": [],
   "source": [
    "df.isna().sum()/len(df)"
   ]
  },
  {
   "cell_type": "code",
   "execution_count": 21,
   "metadata": {},
   "outputs": [
    {
     "name": "stdout",
     "output_type": "stream",
     "text": [
      "The Zen of Python, by Tim Peters\n",
      "\n",
      "Beautiful is better than ugly.\n",
      "Explicit is better than implicit.\n",
      "Simple is better than complex.\n",
      "Complex is better than complicated.\n",
      "Flat is better than nested.\n",
      "Sparse is better than dense.\n",
      "Readability counts.\n",
      "Special cases aren't special enough to break the rules.\n",
      "Although practicality beats purity.\n",
      "Errors should never pass silently.\n",
      "Unless explicitly silenced.\n",
      "In the face of ambiguity, refuse the temptation to guess.\n",
      "There should be one-- and preferably only one --obvious way to do it.\n",
      "Although that way may not be obvious at first unless you're Dutch.\n",
      "Now is better than never.\n",
      "Although never is often better than *right* now.\n",
      "If the implementation is hard to explain, it's a bad idea.\n",
      "If the implementation is easy to explain, it may be a good idea.\n",
      "Namespaces are one honking great idea -- let's do more of those!\n"
     ]
    }
   ],
   "source": [
    "import this"
   ]
  },
  {
   "cell_type": "code",
   "execution_count": null,
   "metadata": {},
   "outputs": [],
   "source": [
    "df.ScaleScore = df.ScaleScore.astype(float)"
   ]
  },
  {
   "cell_type": "code",
   "execution_count": null,
   "metadata": {},
   "outputs": [],
   "source": [
    "#df.ScaleScore.unique()\n",
    "#df.groupby(['ScaleScore']).count()\n",
    "#df.ScaleScore.astype(float)\n"
   ]
  },
  {
   "cell_type": "code",
   "execution_count": null,
   "metadata": {},
   "outputs": [],
   "source": [
    "# Convert values in Test column to column headers in another df\n",
    "df2 = pd.pivot_table(df, values = 'ScaleScore',index=['StudentNumber', 'SchoolYear', 'Grade'],columns='Test')\n",
    "df2.head(50)\n"
   ]
  },
  {
   "cell_type": "code",
   "execution_count": null,
   "metadata": {},
   "outputs": [],
   "source": [
    "df2.shape"
   ]
  },
  {
   "cell_type": "code",
   "execution_count": null,
   "metadata": {},
   "outputs": [],
   "source": [
    "df2.isna().sum()"
   ]
  },
  {
   "cell_type": "code",
   "execution_count": null,
   "metadata": {},
   "outputs": [],
   "source": [
    "df2.to_csv('DataLinkageCols.csv')"
   ]
  },
  {
   "cell_type": "code",
   "execution_count": null,
   "metadata": {},
   "outputs": [],
   "source": [
    "print(3937*.9)\n",
    "print(28*28)"
   ]
  },
  {
   "cell_type": "markdown",
   "metadata": {},
   "source": [
    "###### nulls = df2.isna().sum()\n",
    "print(np.mean(nulls))\n",
    "print(nulls)"
   ]
  },
  {
   "cell_type": "code",
   "execution_count": null,
   "metadata": {},
   "outputs": [],
   "source": [
    "df3 = df2.dropna(axis = 1, thresh = 1000)\n",
    "df3.head()"
   ]
  },
  {
   "cell_type": "code",
   "execution_count": null,
   "metadata": {},
   "outputs": [],
   "source": [
    "df3.isna().sum()"
   ]
  },
  {
   "cell_type": "code",
   "execution_count": null,
   "metadata": {},
   "outputs": [],
   "source": [
    "df3.shape"
   ]
  },
  {
   "cell_type": "code",
   "execution_count": null,
   "metadata": {},
   "outputs": [],
   "source": []
  }
 ],
 "metadata": {
  "kernelspec": {
   "display_name": "Python 3",
   "language": "python",
   "name": "python3"
  },
  "language_info": {
   "codemirror_mode": {
    "name": "ipython",
    "version": 3
   },
   "file_extension": ".py",
   "mimetype": "text/x-python",
   "name": "python",
   "nbconvert_exporter": "python",
   "pygments_lexer": "ipython3",
   "version": "3.6.8"
  }
 },
 "nbformat": 4,
 "nbformat_minor": 2
}
